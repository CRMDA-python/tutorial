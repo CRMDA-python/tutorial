{
 "cells": [
  {
   "cell_type": "markdown",
   "metadata": {},
   "source": [
    "## CRMDA Python Workgroup\n",
    "# Week #6 "
   ]
  },
  {
   "cell_type": "markdown",
   "metadata": {},
   "source": [
    "The first thing that you want to do every time you start working with the materials we are providing is to check for updates on the files. Here is how you can do that with Git. \n",
    "\n",
    "Make sure that you have closed all of your Jupyter Notebooks (if you don't know how to shut down Jupyter, go [here](https://github.com/CRMDA-python/tutorial/blob/master/shut_down_jupyter.md)). If you are on OS X/Linux, navigate to the \"tutorial\" directory (that's the directory you cloned during week 1) in Terminal. If you are on Windows, go to the folder you downloaded during week 1, and right click somewhere in the white space. Then select \"Git Bash Here\". Once you have a command prompt, type the following commands:\n",
    "\n",
    "> git checkout .  \n",
    "\n",
    "> git pull\n",
    "\n",
    "Once you do that, Git will output something like this:\n",
    "\n",
    "_______________________________________________________________\n",
    "<img src=\"../content/images/week2/git_pull_output.png\">\n",
    "_______________________________________________________________\n",
    "\n",
    "\n"
   ]
  },
  {
   "cell_type": "markdown",
   "metadata": {},
   "source": [
    "<img src=\"../content/images/caution-h50.png\"> These notebooks are designed to guide your reading of the book we have chosen for this workgroup, \"Automate the Boring Stuff with Python\" by Al Sweigart. The content is available online: https://automatetheboringstuff.com/\n",
    "\n",
    "The sections we recommend you read and practice are listed below. You will find any missing code in the PDF version of the book. "
   ]
  },
  {
   "cell_type": "markdown",
   "metadata": {},
   "source": [
    "\n",
    "\n",
    "\n",
    "\n"
   ]
  },
  {
   "cell_type": "markdown",
   "metadata": {},
   "source": [
    "# The Boring Stuff - Appendix B: Running Programs\n",
    "http://automatetheboringstuff.com/appendixb/"
   ]
  },
  {
   "cell_type": "markdown",
   "metadata": {},
   "source": [
    "## Shebang Line\n",
    "\n",
    "I strongly recommend reading page 444 (Windows) or 445 (Mac/Linux) of The Boring Stuff. The information provided is pretty useful. "
   ]
  },
  {
   "cell_type": "markdown",
   "metadata": {},
   "source": [
    "Windows"
   ]
  },
  {
   "cell_type": "code",
   "execution_count": null,
   "metadata": {
    "collapsed": true
   },
   "outputs": [],
   "source": [
    "#! python3"
   ]
  },
  {
   "cell_type": "markdown",
   "metadata": {},
   "source": [
    "Mac"
   ]
  },
  {
   "cell_type": "code",
   "execution_count": null,
   "metadata": {
    "collapsed": true
   },
   "outputs": [],
   "source": [
    "#! /usr/bin/env python3"
   ]
  },
  {
   "cell_type": "markdown",
   "metadata": {},
   "source": [
    "Linux"
   ]
  },
  {
   "cell_type": "code",
   "execution_count": null,
   "metadata": {
    "collapsed": true
   },
   "outputs": [],
   "source": [
    "#! /usr/bin/python3"
   ]
  },
  {
   "cell_type": "markdown",
   "metadata": {},
   "source": [
    "# The Boring Stuff - Chapter 10: Debugging\n",
    "http://automatetheboringstuff.com/chapter10/"
   ]
  },
  {
   "cell_type": "markdown",
   "metadata": {
    "collapsed": true
   },
   "source": [
    "## Raising Exceptions"
   ]
  },
  {
   "cell_type": "code",
   "execution_count": null,
   "metadata": {
    "collapsed": false
   },
   "outputs": [],
   "source": [
    "raise Exception('This is the error message.')"
   ]
  },
  {
   "cell_type": "code",
   "execution_count": null,
   "metadata": {
    "collapsed": false
   },
   "outputs": [],
   "source": [
    "def boxPrint(symbol, width, height):\n",
    "    if len(symbol) != 1:\n",
    "        raise Exception('Symbol must be a single character string.')\n",
    "    if width <= 2:\n",
    "        raise Exception('Width must be greater than 2.')\n",
    "    if height <= 2:\n",
    "        raise Exception('Height must be greater than 2.')\n",
    "        \n",
    "    print(symbol * width)\n",
    "    for i in range(height - 2):\n",
    "        print(symbol + (' ' * (width - 2)) + symbol)\n",
    "    print(symbol * width)\n",
    "    \n",
    "\n",
    "for sym, w, h in (('*', 4, 4), ('O', 20, 5), ('x', 1, 3), ('ZZ', 3, 3)):\n",
    "    try:\n",
    "        boxPrint(sym, w, h)\n",
    "    except Exception as err:\n",
    "        print('An exception happened: ' + str(err))"
   ]
  },
  {
   "cell_type": "markdown",
   "metadata": {
    "collapsed": false
   },
   "source": [
    "## Getting Traceback as a String"
   ]
  },
  {
   "cell_type": "code",
   "execution_count": null,
   "metadata": {
    "collapsed": false
   },
   "outputs": [],
   "source": [
    "def spam():\n",
    "    bacon()\n",
    "def bacon():\n",
    "    raise Exception('This is the error message.')\n",
    "\n",
    "spam()"
   ]
  },
  {
   "cell_type": "code",
   "execution_count": null,
   "metadata": {
    "collapsed": false
   },
   "outputs": [],
   "source": [
    "import traceback\n",
    "try:\n",
    "    raise Exception('This is the error message.')\n",
    "except:\n",
    "     errorFile = open('errorInfo.txt', 'w')\n",
    "     errorFile.write(traceback.format_exc())\n",
    "     errorFile.close()\n",
    "     print('The traceback info was written to errorInfo.txt.')"
   ]
  },
  {
   "cell_type": "markdown",
   "metadata": {
    "collapsed": false
   },
   "source": [
    "## Assertions"
   ]
  },
  {
   "cell_type": "code",
   "execution_count": null,
   "metadata": {
    "collapsed": false
   },
   "outputs": [],
   "source": [
    "podBayDoorStatus = 'open'\n",
    "assert podBayDoorStatus == 'open', 'The pod bay doors need to be \"open\".'\n",
    "podBayDoorStatus = 'I\\'m sorry, Dave. I\\'m afraid I can\\'t do that.'\n",
    "assert podBayDoorStatus == 'open', 'The pod bay doors need to be \"open\".'"
   ]
  },
  {
   "cell_type": "markdown",
   "metadata": {},
   "source": [
    "### Using an Assertion in a Traffic Light Simulation"
   ]
  },
  {
   "cell_type": "code",
   "execution_count": null,
   "metadata": {
    "collapsed": false
   },
   "outputs": [],
   "source": [
    "market_2nd = {'ns': 'green', 'ew': 'red'}\n",
    "mission_16th = {'ns': 'red', 'ew': 'green'}\n",
    "\n",
    "def switchLights(stoplight):\n",
    "    for key in stoplight.keys():\n",
    "        if stoplight[key] == 'green':\n",
    "            stoplight[key] = 'yellow'\n",
    "        elif stoplight[key] == 'yellow':\n",
    "            stoplight[key] = 'red'\n",
    "        elif stoplight[key] == 'red':\n",
    "            stoplight[key] = 'green'\n",
    "    \n",
    "    assert 'red' in stoplight.values(), 'Neither light is red! ' + str(stoplight)\n",
    "\n",
    "switchLights(market_2nd)\n",
    "\n",
    "\n"
   ]
  },
  {
   "cell_type": "markdown",
   "metadata": {
    "collapsed": false
   },
   "source": [
    "## Logging"
   ]
  },
  {
   "cell_type": "markdown",
   "metadata": {},
   "source": [
    "### Using the logging Module"
   ]
  },
  {
   "cell_type": "markdown",
   "metadata": {
    "collapsed": false
   },
   "source": [
    "<img src=\"../content/images/caution-h50.png\"> The logging module doesn't work in the same way in a Jupyter Notebook as it would in IDLE. In order to make it work in a Notebook, you need two extra lines of code.\n",
    "\n",
    "```python\n",
    "from imp import reload\n",
    "reload(logging)\n",
    "```"
   ]
  },
  {
   "cell_type": "code",
   "execution_count": null,
   "metadata": {
    "collapsed": false
   },
   "outputs": [],
   "source": [
    "import logging\n",
    "from imp import reload # extra line required in Notebooks\n",
    "reload(logging) # extra line required in Notebooks\n",
    "\n",
    "logging.basicConfig(level=logging.DEBUG, format=' %(asctime)s - %(levelname)s - %(message)s')\n",
    "logging.debug('Start of program')\n",
    "\n",
    "def factorial(n):\n",
    "    logging.debug('Start of factorial(%s)' % (n))\n",
    "    total = 1\n",
    "    for i in range(n + 1):\n",
    "        total *= i\n",
    "        logging.debug('i is ' + str(i) + ', total is ' + str(total))\n",
    "    logging.debug('End of factorial(%s)' % (n))\n",
    "    return total\n",
    "\n",
    "print(factorial(5))\n",
    "logging.debug('End of program')"
   ]
  },
  {
   "cell_type": "code",
   "execution_count": null,
   "metadata": {
    "collapsed": false
   },
   "outputs": [],
   "source": [
    "logging.basicConfig(level=logging.DEBUG, format=' %(asctime)s - %(levelname)s - %(message)s')\n",
    "logging.debug('Start of program')\n",
    "\n",
    "def factorial(n):\n",
    "    logging.debug('Start of factorial(%s)' % (n))\n",
    "    total = 1\n",
    "    for i in range(1, n + 1):\n",
    "        total *= i\n",
    "        logging.debug('i is ' + str(i) + ', total is ' + str(total))\n",
    "    logging.debug('End of factorial(%s)' % (n))\n",
    "    return total\n",
    "\n",
    "print(factorial(5))\n",
    "logging.debug('End of program')"
   ]
  },
  {
   "cell_type": "markdown",
   "metadata": {
    "collapsed": false
   },
   "source": [
    "### Don't debug with _print()_"
   ]
  },
  {
   "cell_type": "markdown",
   "metadata": {
    "collapsed": false
   },
   "source": [
    "I have been doing debugging with _print_ statements for a long time, and I can attest to the fact that it is is not the best way to go. Resist the temptation to fill your code with _print_ statements and use the logger instead. "
   ]
  },
  {
   "cell_type": "markdown",
   "metadata": {
    "collapsed": false
   },
   "source": [
    "### Logging Levels"
   ]
  },
  {
   "cell_type": "code",
   "execution_count": null,
   "metadata": {
    "collapsed": false
   },
   "outputs": [],
   "source": [
    "logging.basicConfig(level=logging.DEBUG, format=' %(asctime)s - %(levelname)s - %(message)s')\n",
    "logging.debug('Some debugging details.')"
   ]
  },
  {
   "cell_type": "code",
   "execution_count": null,
   "metadata": {
    "collapsed": false
   },
   "outputs": [],
   "source": [
    "logging.info('The logging module is working.')"
   ]
  },
  {
   "cell_type": "code",
   "execution_count": null,
   "metadata": {
    "collapsed": false
   },
   "outputs": [],
   "source": [
    "logging.warning('An error message is about to be logged.')"
   ]
  },
  {
   "cell_type": "code",
   "execution_count": null,
   "metadata": {
    "collapsed": false
   },
   "outputs": [],
   "source": [
    "logging.error('An error has occurred.')"
   ]
  },
  {
   "cell_type": "code",
   "execution_count": null,
   "metadata": {
    "collapsed": false
   },
   "outputs": [],
   "source": [
    "logging.critical('The program is unable to recover!')"
   ]
  },
  {
   "cell_type": "markdown",
   "metadata": {},
   "source": [
    "### Disabling Logging"
   ]
  },
  {
   "cell_type": "code",
   "execution_count": null,
   "metadata": {
    "collapsed": false
   },
   "outputs": [],
   "source": [
    "import logging\n",
    "logging.basicConfig(level=logging.INFO, format=' %(asctime)s - %(levelname)s - %(message)s')\n",
    "logging.critical('Critical error! Critical error!')"
   ]
  },
  {
   "cell_type": "code",
   "execution_count": null,
   "metadata": {
    "collapsed": false
   },
   "outputs": [],
   "source": [
    "logging.critical('Critical error! Critical error!')"
   ]
  },
  {
   "cell_type": "code",
   "execution_count": null,
   "metadata": {
    "collapsed": false
   },
   "outputs": [],
   "source": [
    "logging.error('Error! Error!')"
   ]
  },
  {
   "cell_type": "markdown",
   "metadata": {},
   "source": [
    "### Logging to a File"
   ]
  },
  {
   "cell_type": "code",
   "execution_count": null,
   "metadata": {
    "collapsed": false
   },
   "outputs": [],
   "source": [
    "import logging\n",
    "logging.basicConfig(filename='myProgramLog.txt', level=logging.DEBUG, \\\n",
    "                    format=' %(asctime)s - %(levelname)s - %(message)s')"
   ]
  },
  {
   "cell_type": "markdown",
   "metadata": {
    "collapsed": false
   },
   "source": [
    "## IDLE's Debugger"
   ]
  },
  {
   "cell_type": "markdown",
   "metadata": {
    "collapsed": false
   },
   "source": [
    "I recommend this section for anyone who uses IDLE. "
   ]
  },
  {
   "cell_type": "markdown",
   "metadata": {},
   "source": [
    "### Debugging a Number Adding Program\n",
    "\n",
    "This is for those who are using IDLE's debugger."
   ]
  },
  {
   "cell_type": "code",
   "execution_count": null,
   "metadata": {
    "collapsed": false
   },
   "outputs": [],
   "source": [
    "print('Enter the first number to add:')\n",
    "first = input()\n",
    "print('Enter the second number to add:')\n",
    "second = input()\n",
    "print('Enter the third number to add:')\n",
    "third = input()\n",
    "print('The sum is ' + first + second + third)"
   ]
  },
  {
   "cell_type": "markdown",
   "metadata": {},
   "source": [
    "# Test yourself\n",
    "\n",
    "It's important that you are able to answer the following practice questions:\n",
    "\n",
    "__PAGE 231__: Q1-8"
   ]
  }
 ],
 "metadata": {
  "anaconda-cloud": {},
  "kernelspec": {
   "display_name": "Python [Root]",
   "language": "python",
   "name": "Python [Root]"
  },
  "language_info": {
   "codemirror_mode": {
    "name": "ipython",
    "version": 3
   },
   "file_extension": ".py",
   "mimetype": "text/x-python",
   "name": "python",
   "nbconvert_exporter": "python",
   "pygments_lexer": "ipython3",
   "version": "3.5.2"
  }
 },
 "nbformat": 4,
 "nbformat_minor": 0
}
