{
 "cells": [
  {
   "cell_type": "markdown",
   "metadata": {},
   "source": [
    "# Mini Project\n",
    "\n",
    "Weeks 1-5 have provided you with the basics of python functions. Let's try to work on a single project that will require you to use things you have learned so far, and things you haven't.. \n",
    "\n",
    "### Background\n",
    "I used Blast to match butterfly proteins to a moth genome. The Blast output contains the following information (one hit/match per row):\n",
    "\n",
    "- Butterfly Protein Name\n",
    "- Moth Sequence ID\n",
    "- e-value (how good the match is; the lower the value the better)\n",
    "- Length (of the alignment between the two sequences)\n",
    "- Percent Identity (percent amino acid-nucleotide matched in the alignment)\n",
    "- Start of Alignment in Butterfly Protein\n",
    "- End of Alignment in Butterfly Protein\n",
    "- Start of Alignment in Moth Sequence\n",
    "- End of Alignment in Moth Sequence\n",
    "\n",
    "__You don't need to know exactly what these variables are.__\n",
    "\n",
    "\n",
    "### Files\n",
    "\n",
    "Here are the output files:\n",
    "\n",
    "- mc2moth.full.txt (entire data set)\n",
    "- mc2moth.sample.txt (first 10 rows)\n",
    "\n",
    "These are __tab delimited__ files. \n",
    "\n",
    "## Objective\n",
    "\n",
    "Create a python program that will filter the data based on the following criteria:\n",
    "- e-value < 10e-100 (AND)\n",
    "- length > 300\n",
    "The alignments (rows) that fit this description should be output to a file called mc2moth.filtered.txt\n",
    "\n",
    "### How do I start? \n",
    "\n",
    "Think about the objective and write down what steps you would take to solve this problem by hand. \n",
    "\n",
    "For example: \n",
    "\n",
    "1. Open file\n",
    "2. Read file line by line\n",
    "3. Decide if the alignment meets the filtering criteria\n",
    "    - Split the line into its components\n",
    "    - Check the numbers\n",
    "4. Output the appropriate rows to a new file\n",
    "\n",
    "\n",
    "# Ready? Set! GO!\n",
    "\n",
    "\n",
    "\n",
    "\n",
    "\n",
    "\n"
   ]
  },
  {
   "cell_type": "code",
   "execution_count": null,
   "metadata": {
    "collapsed": true
   },
   "outputs": [],
   "source": []
  }
 ],
 "metadata": {
  "anaconda-cloud": {},
  "kernelspec": {
   "display_name": "Python [Root]",
   "language": "python",
   "name": "Python [Root]"
  },
  "language_info": {
   "codemirror_mode": {
    "name": "ipython",
    "version": 3
   },
   "file_extension": ".py",
   "mimetype": "text/x-python",
   "name": "python",
   "nbconvert_exporter": "python",
   "pygments_lexer": "ipython3",
   "version": "3.5.2"
  }
 },
 "nbformat": 4,
 "nbformat_minor": 0
}
