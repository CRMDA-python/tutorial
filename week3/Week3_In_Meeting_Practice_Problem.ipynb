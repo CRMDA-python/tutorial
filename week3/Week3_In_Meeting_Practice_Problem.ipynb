{
 "cells": [
  {
   "cell_type": "markdown",
   "metadata": {},
   "source": [
    "## CRMDA Python Workgroup\n",
    "# Week #3 \n",
    "\n",
    "# In-Meeting Practice Problem \n",
    "\n",
    "### Last Week's Solution\n",
    "Last week I asked you to write a program to display the Fibonacci sequence up to n-th term where n is provided by the user. \n",
    "\n",
    "Here is my solution to the problem."
   ]
  },
  {
   "cell_type": "code",
   "execution_count": null,
   "metadata": {
    "collapsed": false
   },
   "outputs": [],
   "source": [
    "print(\"How many terms?\")\n",
    "numTerms = int(input())\n",
    "\n",
    "# make sure that the user has entered a valid number\n",
    "while numTerms <= 2:\n",
    "    print(\"Please enter a positive integer greater than 2\")\n",
    "    numTerms = int(input())\n",
    "\n",
    "# set the first two terms to 0 and 1\n",
    "n1 = 0\n",
    "n2 = 1\n",
    "\n",
    "# since 0 and 1 are a part of the sequence, print them\n",
    "print(\"Fibonacci sequence:\")\n",
    "print(n1, end=\" , \")\n",
    "print(n2, end=\" , \")\n",
    "\n",
    "# set the counter to 2 (because 0 and have already been printed)\n",
    "counter = 2\n",
    "\n",
    "# determine the remaining terms of the sequence\n",
    "while counter < numTerms:\n",
    "    nth = n1 + n2           # cakculate new term\n",
    "    print(nth, end=\" , \")   # print new term\n",
    "    \n",
    "    # to calculate each new term, we only need the last two terms. So, we only store two most recent terms in n1 and n2.\n",
    "    n1 = n2 \n",
    "    n2 = nth\n",
    "    \n",
    "    # update the counter\n",
    "    counter += 1"
   ]
  },
  {
   "cell_type": "markdown",
   "metadata": {},
   "source": [
    "### This Week's Task\n",
    "\n",
    "Use what you have learned this week to modify the above program to use lists. "
   ]
  },
  {
   "cell_type": "code",
   "execution_count": null,
   "metadata": {
    "collapsed": true
   },
   "outputs": [],
   "source": []
  }
 ],
 "metadata": {
  "anaconda-cloud": {},
  "kernelspec": {
   "display_name": "Python [Root]",
   "language": "python",
   "name": "Python [Root]"
  },
  "language_info": {
   "codemirror_mode": {
    "name": "ipython",
    "version": 3
   },
   "file_extension": ".py",
   "mimetype": "text/x-python",
   "name": "python",
   "nbconvert_exporter": "python",
   "pygments_lexer": "ipython3",
   "version": "3.5.2"
  }
 },
 "nbformat": 4,
 "nbformat_minor": 0
}
