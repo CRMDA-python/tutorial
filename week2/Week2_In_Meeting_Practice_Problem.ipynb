{
 "cells": [
  {
   "cell_type": "markdown",
   "metadata": {},
   "source": [
    "## CRMDA Python Workgroup\n",
    "# Week #2 \n",
    "\n",
    "# In-Meeting Practice Problem \n",
    "\n",
    "Write a program to display the Fibonacci sequence up to n-th term where n is provided by the user. \n",
    "\n",
    "What is a Fibonacci sequence? It is a series of numbers in which each number (Fibonacci number) is the sum of the two preceding numbers. The simplest is the series 1, 1, 2, 3, 5, 8, etc. The sequence doesn't have to start with 1.\n",
    "\n",
    "Your program should check the input from the user to make sure that the n-th term in a positive non-zero interger.\n",
    "\n",
    "Sample output:\n",
    "\n",
    "```\n",
    "How many terms? 5\n",
    "Fibonacci sequence:\n",
    "0 , 1, 1 , 2 , 3 , \n",
    "```\n",
    "\n",
    "Extra Mental Points: Modify your program to start with a user-specified number and its numerically preceeding number. "
   ]
  },
  {
   "cell_type": "code",
   "execution_count": null,
   "metadata": {
    "collapsed": true
   },
   "outputs": [],
   "source": []
  }
 ],
 "metadata": {
  "anaconda-cloud": {},
  "kernelspec": {
   "display_name": "Python [Root]",
   "language": "python",
   "name": "Python [Root]"
  },
  "language_info": {
   "codemirror_mode": {
    "name": "ipython",
    "version": 3
   },
   "file_extension": ".py",
   "mimetype": "text/x-python",
   "name": "python",
   "nbconvert_exporter": "python",
   "pygments_lexer": "ipython3",
   "version": "3.5.2"
  }
 },
 "nbformat": 4,
 "nbformat_minor": 0
}
