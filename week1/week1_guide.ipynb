{
 "cells": [
  {
   "cell_type": "markdown",
   "metadata": {},
   "source": [
    "# Week 1 \n",
    "\n",
    "\n",
    "Topics to be covered this week:\n",
    " - Variables \n",
    " - Data Types\n",
    " - Expressions\n",
    " - Data Structures\n"
   ]
  },
  {
   "cell_type": "markdown",
   "metadata": {},
   "source": [
    "### Variables and Expressions\n",
    "\n",
    "A variable is like a box where you can store data. The variable name is the label you put on the box so that you can easily retrieve your data. For example, I would like a variable to store my sister's zip code. \"zipcode\" is the variable name, '66044' is the current value of the variable, and the '=' is the assignment operator. "
   ]
  },
  {
   "cell_type": "code",
   "execution_count": 5,
   "metadata": {
    "collapsed": false
   },
   "outputs": [
    {
     "name": "stdout",
     "output_type": "stream",
     "text": [
      "66044\n"
     ]
    }
   ],
   "source": [
    "zipcode = 66044\n",
    "zipcode\n",
    "print(zipcode)"
   ]
  },
  {
   "cell_type": "markdown",
   "metadata": {},
   "source": [
    "Variable names should be alphanumeric (underscores are legal), and cannot start with a number or a capital letter. YOu should strive to give your variables names that are informative. For example, if I want to store the average number of apples I eat in a week in a variable, I would name that variable one of the following:\n",
    "\n",
    "mean_apples\n",
    "meanApples\n",
    "\n"
   ]
  },
  {
   "cell_type": "code",
   "execution_count": null,
   "metadata": {
    "collapsed": true
   },
   "outputs": [],
   "source": []
  }
 ],
 "metadata": {
  "anaconda-cloud": {},
  "kernelspec": {
   "display_name": "Python [Root]",
   "language": "python",
   "name": "Python [Root]"
  },
  "language_info": {
   "codemirror_mode": {
    "name": "ipython",
    "version": 3
   },
   "file_extension": ".py",
   "mimetype": "text/x-python",
   "name": "python",
   "nbconvert_exporter": "python",
   "pygments_lexer": "ipython3",
   "version": "3.5.2"
  }
 },
 "nbformat": 4,
 "nbformat_minor": 0
}
